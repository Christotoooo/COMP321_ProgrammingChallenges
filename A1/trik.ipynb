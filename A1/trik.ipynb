{
 "cells": [
  {
   "cell_type": "code",
   "execution_count": null,
   "metadata": {},
   "outputs": [],
   "source": [
    "input = input()\n",
    "if input == \"\":\n",
    "    print(1)\n",
    "else:\n",
    "    current = [1,0,0]\n",
    "    for operation in input:\n",
    "        if operation == \"A\":\n",
    "            temp = current[0]\n",
    "            current[0] = current[1]\n",
    "            current[1] = temp\n",
    "        elif operation == \"B\":\n",
    "            temp = current[1]\n",
    "            current[1] = current[2]\n",
    "            current[2] = temp\n",
    "        else: # \"C\"\n",
    "            temp = current[0]\n",
    "            current[0] = current[2]\n",
    "            current[2] = temp\n",
    "    print(current.index(1) + 1)"
   ]
  }
 ],
 "metadata": {
  "kernelspec": {
   "display_name": "Python 3",
   "language": "python",
   "name": "python3"
  },
  "language_info": {
   "codemirror_mode": {
    "name": "ipython",
    "version": 3
   },
   "file_extension": ".py",
   "mimetype": "text/x-python",
   "name": "python",
   "nbconvert_exporter": "python",
   "pygments_lexer": "ipython3",
   "version": "3.7.3"
  }
 },
 "nbformat": 4,
 "nbformat_minor": 2
}
