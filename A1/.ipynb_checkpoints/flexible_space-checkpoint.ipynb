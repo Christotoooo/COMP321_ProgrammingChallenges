{
 "cells": [
  {
   "cell_type": "code",
   "execution_count": null,
   "metadata": {},
   "outputs": [],
   "source": [
    "\n",
    "total_width, n_part = [int(x) for x in input().split()]\n",
    "\n",
    "parts = [int(x) for x in input().split()] + [total_width]\n",
    "\n",
    "tous = set()\n",
    "\n",
    "for part in parts:\n",
    "    tous.add(part)\n",
    "    \n",
    "    for another_part in parts:\n",
    "        if part != another_part:\n",
    "            tous.add(abs(part - another_part))\n",
    "\n",
    "print(\" \".join(str(x) for x in sorted(tous)))"
   ]
  }
 ],
 "metadata": {
  "kernelspec": {
   "display_name": "Python 3",
   "language": "python",
   "name": "python3"
  },
  "language_info": {
   "codemirror_mode": {
    "name": "ipython",
    "version": 3
   },
   "file_extension": ".py",
   "mimetype": "text/x-python",
   "name": "python",
   "nbconvert_exporter": "python",
   "pygments_lexer": "ipython3",
   "version": "3.7.3"
  }
 },
 "nbformat": 4,
 "nbformat_minor": 2
}
